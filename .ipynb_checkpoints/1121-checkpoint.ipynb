{
 "cells": [
  {
   "cell_type": "code",
   "execution_count": null,
   "id": "01dcaa85",
   "metadata": {},
   "outputs": [],
   "source": [
    "import requests\n",
    " url = '要爬的網址'\n",
    " # 假的headers 資訊\n",
    "headers = {'user-agent': 'Mozilla/5.0 (Windows NT 6.1) AppleWebKit/537.36 \n",
    "(KHTML, like Gecko) Chrome/52.0.2743.116 Safari/537.36'}\n",
    " # 加入headers 資訊\n",
    "web = requests.get(url, headers=headers)\n",
    " web.encoding = 'utf8‘  \n",
    "print(web.text)\n"
   ]
  }
 ],
 "metadata": {
  "kernelspec": {
   "display_name": "Python 3 (ipykernel)",
   "language": "python",
   "name": "python3"
  },
  "language_info": {
   "codemirror_mode": {
    "name": "ipython",
    "version": 3
   },
   "file_extension": ".py",
   "mimetype": "text/x-python",
   "name": "python",
   "nbconvert_exporter": "python",
   "pygments_lexer": "ipython3",
   "version": "3.9.13"
  }
 },
 "nbformat": 4,
 "nbformat_minor": 5
}

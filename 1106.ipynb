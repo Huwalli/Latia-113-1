{
 "cells": [
  {
   "cell_type": "code",
   "execution_count": 1,
   "id": "0176d900",
   "metadata": {},
   "outputs": [
    {
     "name": "stderr",
     "output_type": "stream",
     "text": [
      "c:\\Users\\Huwalli\\anaconda3\\lib\\site-packages\\scipy\\__init__.py:155: UserWarning: A NumPy version >=1.18.5 and <1.25.0 is required for this version of SciPy (detected version 1.26.4\n",
      "  warnings.warn(f\"A NumPy version >={np_minversion} and <{np_maxversion}\"\n"
     ]
    }
   ],
   "source": [
    "import pandas as pd\n",
    "import statsmodels.api as sm\n",
    "import numpy as np\n"
   ]
  },
  {
   "cell_type": "code",
   "execution_count": 2,
   "id": "0f3ee187",
   "metadata": {},
   "outputs": [],
   "source": [
    "df2=pd.DataFrame(np.random.randn(100,4),columns=list(\"ABCD\"))"
   ]
  },
  {
   "cell_type": "code",
   "execution_count": 11,
   "id": "edb1a106",
   "metadata": {},
   "outputs": [
    {
     "data": {
      "text/html": [
       "<div>\n",
       "<style scoped>\n",
       "    .dataframe tbody tr th:only-of-type {\n",
       "        vertical-align: middle;\n",
       "    }\n",
       "\n",
       "    .dataframe tbody tr th {\n",
       "        vertical-align: top;\n",
       "    }\n",
       "\n",
       "    .dataframe thead th {\n",
       "        text-align: right;\n",
       "    }\n",
       "</style>\n",
       "<table border=\"1\" class=\"dataframe\">\n",
       "  <thead>\n",
       "    <tr style=\"text-align: right;\">\n",
       "      <th></th>\n",
       "      <th>const</th>\n",
       "      <th>B</th>\n",
       "      <th>C</th>\n",
       "    </tr>\n",
       "  </thead>\n",
       "  <tbody>\n",
       "    <tr>\n",
       "      <th>0</th>\n",
       "      <td>1.0</td>\n",
       "      <td>-0.126569</td>\n",
       "      <td>-2.288875</td>\n",
       "    </tr>\n",
       "    <tr>\n",
       "      <th>1</th>\n",
       "      <td>1.0</td>\n",
       "      <td>-1.097374</td>\n",
       "      <td>-0.688876</td>\n",
       "    </tr>\n",
       "    <tr>\n",
       "      <th>2</th>\n",
       "      <td>1.0</td>\n",
       "      <td>0.402069</td>\n",
       "      <td>-0.211359</td>\n",
       "    </tr>\n",
       "    <tr>\n",
       "      <th>3</th>\n",
       "      <td>1.0</td>\n",
       "      <td>-1.397998</td>\n",
       "      <td>-1.569050</td>\n",
       "    </tr>\n",
       "    <tr>\n",
       "      <th>4</th>\n",
       "      <td>1.0</td>\n",
       "      <td>0.573126</td>\n",
       "      <td>-0.791508</td>\n",
       "    </tr>\n",
       "    <tr>\n",
       "      <th>...</th>\n",
       "      <td>...</td>\n",
       "      <td>...</td>\n",
       "      <td>...</td>\n",
       "    </tr>\n",
       "    <tr>\n",
       "      <th>95</th>\n",
       "      <td>1.0</td>\n",
       "      <td>-1.780683</td>\n",
       "      <td>-1.596773</td>\n",
       "    </tr>\n",
       "    <tr>\n",
       "      <th>96</th>\n",
       "      <td>1.0</td>\n",
       "      <td>0.138031</td>\n",
       "      <td>-1.100120</td>\n",
       "    </tr>\n",
       "    <tr>\n",
       "      <th>97</th>\n",
       "      <td>1.0</td>\n",
       "      <td>2.231047</td>\n",
       "      <td>0.350213</td>\n",
       "    </tr>\n",
       "    <tr>\n",
       "      <th>98</th>\n",
       "      <td>1.0</td>\n",
       "      <td>0.696494</td>\n",
       "      <td>-0.247304</td>\n",
       "    </tr>\n",
       "    <tr>\n",
       "      <th>99</th>\n",
       "      <td>1.0</td>\n",
       "      <td>-0.597003</td>\n",
       "      <td>0.749651</td>\n",
       "    </tr>\n",
       "  </tbody>\n",
       "</table>\n",
       "<p>100 rows × 3 columns</p>\n",
       "</div>"
      ],
      "text/plain": [
       "    const         B         C\n",
       "0     1.0 -0.126569 -2.288875\n",
       "1     1.0 -1.097374 -0.688876\n",
       "2     1.0  0.402069 -0.211359\n",
       "3     1.0 -1.397998 -1.569050\n",
       "4     1.0  0.573126 -0.791508\n",
       "..    ...       ...       ...\n",
       "95    1.0 -1.780683 -1.596773\n",
       "96    1.0  0.138031 -1.100120\n",
       "97    1.0  2.231047  0.350213\n",
       "98    1.0  0.696494 -0.247304\n",
       "99    1.0 -0.597003  0.749651\n",
       "\n",
       "[100 rows x 3 columns]"
      ]
     },
     "execution_count": 11,
     "metadata": {},
     "output_type": "execute_result"
    }
   ],
   "source": [
    "# 使用 iloc 選取自變數範圍（例如第 1 到第 2 列，包含 \"B\" 和 \"C\" 欄位）\n",
    "X = df2.iloc[:, 1:3]  # 選取 \"B\" 和 \"C\" 作為自變數\n",
    "y = df2['A']          # 假設 \"A\" 是因變數\n",
    "\n",
    "# 添加常數項\n",
    "X = sm.add_constant(X)\n",
    "X"
   ]
  },
  {
   "cell_type": "code",
   "execution_count": 12,
   "id": "99c48cfd",
   "metadata": {},
   "outputs": [
    {
     "name": "stdout",
     "output_type": "stream",
     "text": [
      "                            OLS Regression Results                            \n",
      "==============================================================================\n",
      "Dep. Variable:                      A   R-squared:                       0.081\n",
      "Model:                            OLS   Adj. R-squared:                  0.062\n",
      "Method:                 Least Squares   F-statistic:                     4.268\n",
      "Date:                Thu, 07 Nov 2024   Prob (F-statistic):             0.0167\n",
      "Time:                        17:56:25   Log-Likelihood:                -134.40\n",
      "No. Observations:                 100   AIC:                             274.8\n",
      "Df Residuals:                      97   BIC:                             282.6\n",
      "Df Model:                           2                                         \n",
      "Covariance Type:            nonrobust                                         \n",
      "==============================================================================\n",
      "                 coef    std err          t      P>|t|      [0.025      0.975]\n",
      "------------------------------------------------------------------------------\n",
      "const         -0.0580      0.096     -0.604      0.547      -0.249       0.133\n",
      "B             -0.2603      0.089     -2.921      0.004      -0.437      -0.083\n",
      "C              0.0101      0.105      0.097      0.923      -0.197       0.218\n",
      "==============================================================================\n",
      "Omnibus:                        4.310   Durbin-Watson:                   1.860\n",
      "Prob(Omnibus):                  0.116   Jarque-Bera (JB):                4.282\n",
      "Skew:                          -0.500   Prob(JB):                        0.118\n",
      "Kurtosis:                       2.831   Cond. No.                         1.26\n",
      "==============================================================================\n",
      "\n",
      "Notes:\n",
      "[1] Standard Errors assume that the covariance matrix of the errors is correctly specified.\n"
     ]
    }
   ],
   "source": [
    "# 建立並擬合模型\n",
    "model = sm.OLS(y, X).fit()\n",
    "\n",
    "# 輸出回歸結果摘要\n",
    "print(model.summary())"
   ]
  },
  {
   "cell_type": "code",
   "execution_count": null,
   "id": "f6237280",
   "metadata": {},
   "outputs": [],
   "source": []
  }
 ],
 "metadata": {
  "kernelspec": {
   "display_name": "base",
   "language": "python",
   "name": "python3"
  },
  "language_info": {
   "codemirror_mode": {
    "name": "ipython",
    "version": 3
   },
   "file_extension": ".py",
   "mimetype": "text/x-python",
   "name": "python",
   "nbconvert_exporter": "python",
   "pygments_lexer": "ipython3",
   "version": "3.9.13"
  }
 },
 "nbformat": 4,
 "nbformat_minor": 5
}
